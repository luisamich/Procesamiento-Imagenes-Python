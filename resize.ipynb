{
 "cells": [
  {
   "cell_type": "code",
   "execution_count": null,
   "metadata": {},
   "outputs": [],
   "source": [
    "from PIL import Image \n",
    "import numpy as np\n",
    "import glob\n",
    "import statistics"
   ]
  },
  {
   "cell_type": "code",
   "execution_count": null,
   "metadata": {},
   "outputs": [],
   "source": [
    "data_path = 'C:/Users/luisa/Desktop/Resize/foca.jpg'\n",
    "\n",
    "foca= Image.open(data_path)\n",
    "print('{}'.format(foca.format))\n",
    "print('size: {}'.format(foca.size))\n",
    "print('image mode: {}'.format(foca.mode))\n",
    "foca.show()"
   ]
  },
  {
   "cell_type": "code",
   "execution_count": null,
   "metadata": {},
   "outputs": [],
   "source": [
    "#Arreglos para guardar la información completa de las imagenes \n",
    "image_list = []\n",
    "resized_images = []\n",
    "\n",
    "#para guardar unicamente su tamaño y poder realizar un promedio\n",
    "image_list_prom = []\n",
    "\n",
    "\n",
    "for filename in glob.glob('C:/Users/luisa/Desktop/Resize/*.jpg'):\n",
    "    print(filename)\n",
    "    focas = Image.open(filename)\n",
    "    image_list.append(focas)\n",
    "    image_list_prom.append(focas.size)\n",
    "\n",
    "    \n",
    "print(image_list)"
   ]
  },
  {
   "cell_type": "code",
   "execution_count": null,
   "metadata": {},
   "outputs": [],
   "source": [
    "print(image_list_prom)\n",
    "guardar_tam = np.array(image_list_prom)\n",
    "print(guardar_tam)"
   ]
  },
  {
   "cell_type": "code",
   "execution_count": null,
   "metadata": {},
   "outputs": [],
   "source": [
    "\n",
    "#para saber el tamaño de la matriz (cuantas imagenes hay almacenadas)\n",
    "tam_matiz= np.shape(guardar_tam)\n",
    "print(tam_matiz)"
   ]
  },
  {
   "cell_type": "code",
   "execution_count": null,
   "metadata": {},
   "outputs": [],
   "source": [
    "columna_ancho = []; \n",
    "\n",
    "for i in guardar_tam:\n",
    "    columna_ancho.append(i[0])\n",
    "\n",
    "print(columna_ancho)"
   ]
  },
  {
   "cell_type": "code",
   "execution_count": null,
   "metadata": {},
   "outputs": [],
   "source": [
    "columna_alto = []\n",
    "\n",
    "for j in guardar_tam:\n",
    "    columna_alto.append(j[1])\n",
    "\n",
    "print(columna_alto)"
   ]
  },
  {
   "cell_type": "code",
   "execution_count": null,
   "metadata": {},
   "outputs": [],
   "source": [
    "promedio_ancho = statistics.mean(columna_ancho)\n",
    "print(promedio_ancho)"
   ]
  },
  {
   "cell_type": "code",
   "execution_count": null,
   "metadata": {},
   "outputs": [],
   "source": [
    "promedio_alto = statistics.mean(columna_alto)\n",
    "print(promedio_alto)"
   ]
  },
  {
   "cell_type": "code",
   "execution_count": null,
   "metadata": {},
   "outputs": [],
   "source": [
    "#resize (ancho, alto)\n",
    "\n",
    "for image in image_list:\n",
    "    image.show()\n",
    "    image= image.resize((promedio_ancho,promedio_alto))\n",
    "    resized_images.append(image)"
   ]
  },
  {
   "cell_type": "code",
   "execution_count": null,
   "metadata": {},
   "outputs": [],
   "source": [
    "#tenemos que haber creado ya la carpeta nueva \"NewResize\" para guardar las imagenes con resize\n",
    "for (i, new) in enumerate(resized_images):\n",
    "    new.save('{} {} {}'.format('C:/Users/luisa/Desktop/NewResize/shape', i+1, '.jpg'))"
   ]
  }
 ],
 "metadata": {
  "kernelspec": {
   "display_name": "Python 3.9.7 64-bit",
   "language": "python",
   "name": "python3"
  },
  "language_info": {
   "codemirror_mode": {
    "name": "ipython",
    "version": 3
   },
   "file_extension": ".py",
   "mimetype": "text/x-python",
   "name": "python",
   "nbconvert_exporter": "python",
   "pygments_lexer": "ipython3",
   "version": "3.9.7"
  },
  "orig_nbformat": 4,
  "vscode": {
   "interpreter": {
    "hash": "d1b75f63a51ab1e44c10e89cf3b718812d9c5e2447d39cb402b946ba7653bfcd"
   }
  }
 },
 "nbformat": 4,
 "nbformat_minor": 2
}
